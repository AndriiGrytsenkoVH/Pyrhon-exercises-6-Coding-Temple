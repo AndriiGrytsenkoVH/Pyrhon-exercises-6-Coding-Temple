{
 "cells": [
  {
   "cell_type": "markdown",
   "metadata": {},
   "source": [
    "#### Exercise 1 - Class Inheritance"
   ]
  },
  {
   "cell_type": "markdown",
   "metadata": {},
   "source": [
    "Create an Employee class that sets an employee's first name, last name, job title, salary, and email. The Employee class should have a class attribute for the raise amount set to 5% (1.05). Create a method that will apply the raise to an employee's salary."
   ]
  },
  {
   "cell_type": "code",
   "execution_count": 1,
   "metadata": {},
   "outputs": [],
   "source": [
    "class Employee:\n",
    "\n",
    "    raise_amount = 1.05\n",
    "\n",
    "    def __init__(self, first_name, last_name, job_title, salary, email):\n",
    "        self.first_name = first_name\n",
    "        self.last_name = last_name\n",
    "        self.job_title = job_title\n",
    "        self.salary = salary\n",
    "        self.email = email\n",
    "\n",
    "    def __str__(self):\n",
    "        return f\"{self.first_name} {self.last_name}\"\n",
    "    \n",
    "    def apply_raise(self):\n",
    "        self.salary *= self.raise_amount\n"
   ]
  },
  {
   "cell_type": "markdown",
   "metadata": {},
   "source": [
    "Create two more classes that inherit from the Employee class. One for Sales and one for Development. Both of these classes will have the same attributes as the Employee.<br>\n",
    "- For the Sales employees, add a phone number attribute on instantiation using the super method. \n",
    "- Create a method on the Sales class that will Send a Follow Up Email. It should take in a customer name and \"send\" aka print a formatted email \"Dear *customer*, Thank you for your interest in our product. Please let me know if you have any questions. My email is *email* or my phone number is *phone number*. Thanks, *full name*\"\n",
    "- Create a method on the Development class called code that will print out \"*full name* is writing code\"."
   ]
  },
  {
   "cell_type": "code",
   "execution_count": 2,
   "metadata": {},
   "outputs": [],
   "source": [
    "class Sales(Employee):\n",
    "\n",
    "    def __init__(self, first_name, last_name, job_title, salary, email, phone_number):\n",
    "        super().__init__(first_name, last_name, job_title, salary, email)\n",
    "        self.phone_number = phone_number\n",
    "\n",
    "    def send_follow_up_email(self, customer_name):\n",
    "        print(     \n",
    "f\"\"\"\n",
    "Dear {customer_name}, Thank you for your interest in our product.\n",
    "Please let me know if you have any questions.\n",
    "My email is {self.email} or my phone number is {self.phone_number}.\n",
    "Thanks, {self}\n",
    "\"\"\"\n",
    "        )\n",
    "\n",
    "\n",
    "\n",
    "class Development(Employee):\n",
    "\n",
    "    def code(self):\n",
    "        print(f\"{self} is writing code\")\n",
    "\n"
   ]
  },
  {
   "cell_type": "markdown",
   "metadata": {},
   "source": [
    "- Create an instance of a Sales Employee with a salary of $50,000.\n",
    "- Send follow up emails to \"Mike O'Neil\" and \"Hannah Stern\"\n",
    "- Give the employee a raise and print the salary"
   ]
  },
  {
   "cell_type": "code",
   "execution_count": 3,
   "metadata": {},
   "outputs": [
    {
     "name": "stdout",
     "output_type": "stream",
     "text": [
      "\n",
      "Dear Mike O'Neil, Thank you for your interest in our product.\n",
      "Please let me know if you have any questions.\n",
      "My email is speedy.justice@gmail.com or my phone number is 3219116969.\n",
      "Thanks, Soul Goodman\n",
      "\n",
      "\n",
      "Dear Hannah Stern, Thank you for your interest in our product.\n",
      "Please let me know if you have any questions.\n",
      "My email is speedy.justice@gmail.com or my phone number is 3219116969.\n",
      "Thanks, Soul Goodman\n",
      "\n"
     ]
    }
   ],
   "source": [
    "sales_guy_1 = Sales(\"Soul\", \"Goodman\", \"Attorney\", 5000000, \"speedy.justice@gmail.com\", 3219116969)\n",
    "# sales_guy_1 = Sales(\"Soul\", \"Goodman\", \"Attorney\", 50000, \"speedy.justice@gmail.com\")\n",
    "sales_guy_1.send_follow_up_email(\"Mike O'Neil\")\n",
    "sales_guy_1.send_follow_up_email(\"Hannah Stern\")"
   ]
  },
  {
   "cell_type": "markdown",
   "metadata": {},
   "source": [
    "- Create an instance of a Development Employee with a salary of $100,000\n",
    "- Write some code with this employee (aka call the code method)\n",
    "- Give the employee a raise and print the salary"
   ]
  },
  {
   "cell_type": "code",
   "execution_count": 4,
   "metadata": {},
   "outputs": [
    {
     "name": "stdout",
     "output_type": "stream",
     "text": [
      "Hacker Man is writing code\n",
      "100000\n",
      "105000.0\n"
     ]
    }
   ],
   "source": [
    "dev_guy_1 = Development(\"Hacker\", \"Man\", \"Hacker\", 100000, \"Hpkd.1245.LPAS@gmail.com\")\n",
    "# sales_guy_1 = Sales(\"Soul\", \"Goodman\", \"Attorney\", 50000, \"speedy.justice@gmail.com\")\n",
    "dev_guy_1.code()\n",
    "print(dev_guy_1.salary)\n",
    "dev_guy_1.apply_raise()\n",
    "print(dev_guy_1.salary)"
   ]
  },
  {
   "cell_type": "markdown",
   "metadata": {},
   "source": [
    "#### Exercise 2 - Importing Modules"
   ]
  },
  {
   "cell_type": "markdown",
   "metadata": {},
   "source": [
    "In VS Code, create a module titled `geometry` and add two functions in there. One that will calculate the area of a circle given a radius. The second will find the hypotenuse of a right angle given the two sides. Import the module or the functions from the module and use it to find the answers to the below questions"
   ]
  },
  {
   "cell_type": "code",
   "execution_count": 5,
   "metadata": {},
   "outputs": [],
   "source": [
    "import vh_modules as vh"
   ]
  },
  {
   "cell_type": "markdown",
   "metadata": {},
   "source": [
    "What is the area of a circle with a radius of 7cm?"
   ]
  },
  {
   "cell_type": "code",
   "execution_count": 6,
   "metadata": {},
   "outputs": [
    {
     "name": "stdout",
     "output_type": "stream",
     "text": [
      "314.1592653589793\n"
     ]
    }
   ],
   "source": [
    "print(vh.circle_area(10))"
   ]
  },
  {
   "cell_type": "markdown",
   "metadata": {},
   "source": [
    "What is the hypotenuse of a right angle with sides of 3in and 4in?"
   ]
  },
  {
   "cell_type": "code",
   "execution_count": 7,
   "metadata": {},
   "outputs": [
    {
     "name": "stdout",
     "output_type": "stream",
     "text": [
      "5.0\n"
     ]
    }
   ],
   "source": [
    "print(vh.calculate_hypotenuse(3,4))"
   ]
  },
  {
   "cell_type": "code",
   "execution_count": 8,
   "metadata": {},
   "outputs": [
    {
     "data": {
      "text/plain": [
       "3.141592653589793"
      ]
     },
     "execution_count": 8,
     "metadata": {},
     "output_type": "execute_result"
    }
   ],
   "source": [
    "# import of an import !!!\n",
    "vh.pi"
   ]
  },
  {
   "cell_type": "code",
   "execution_count": 9,
   "metadata": {},
   "outputs": [
    {
     "data": {
      "text/plain": [
       "3.141592653589793"
      ]
     },
     "execution_count": 9,
     "metadata": {},
     "output_type": "execute_result"
    }
   ],
   "source": [
    "# To conduct the test make sure to restart Jupyter kernel \n",
    "# to clean all the imports\n",
    "import vh_modules.geometry\n",
    "\"\"\"\n",
    "Works as a folder\n",
    "__init__.py might as well not exist\n",
    "\"\"\"\n",
    "\n",
    "vh_modules.geometry.pi"
   ]
  },
  {
   "cell_type": "code",
   "execution_count": 10,
   "metadata": {},
   "outputs": [
    {
     "data": {
      "text/plain": [
       "['__builtins__',\n",
       " '__cached__',\n",
       " '__doc__',\n",
       " '__file__',\n",
       " '__loader__',\n",
       " '__name__',\n",
       " '__package__',\n",
       " '__spec__',\n",
       " 'print_init',\n",
       " 'time',\n",
       " 'time_this_func']"
      ]
     },
     "execution_count": 10,
     "metadata": {},
     "output_type": "execute_result"
    }
   ],
   "source": [
    "# To conduct the test make sure to restart Jupyter kernel \n",
    "# to clean all the imports\n",
    "from vh_modules import *\n",
    "\"\"\"\n",
    "Utilizing __all__\n",
    "in __init__.py\n",
    "\"\"\"\n",
    "\n",
    "dir(vh_module)"
   ]
  },
  {
   "cell_type": "code",
   "execution_count": 11,
   "metadata": {},
   "outputs": [
    {
     "data": {
      "text/plain": [
       "3.141592653589793"
      ]
     },
     "execution_count": 11,
     "metadata": {},
     "output_type": "execute_result"
    }
   ],
   "source": [
    "# To conduct the test make sure to restart Jupyter kernel \n",
    "# to clean all the imports\n",
    "import vh_modules as vh\n",
    "\n",
    "vh.pi"
   ]
  },
  {
   "cell_type": "code",
   "execution_count": 12,
   "metadata": {},
   "outputs": [
    {
     "data": {
      "text/plain": [
       "['__add__',\n",
       " '__class__',\n",
       " '__contains__',\n",
       " '__delattr__',\n",
       " '__dir__',\n",
       " '__doc__',\n",
       " '__eq__',\n",
       " '__format__',\n",
       " '__ge__',\n",
       " '__getattribute__',\n",
       " '__getitem__',\n",
       " '__getnewargs__',\n",
       " '__gt__',\n",
       " '__hash__',\n",
       " '__init__',\n",
       " '__init_subclass__',\n",
       " '__iter__',\n",
       " '__le__',\n",
       " '__len__',\n",
       " '__lt__',\n",
       " '__mod__',\n",
       " '__mul__',\n",
       " '__ne__',\n",
       " '__new__',\n",
       " '__reduce__',\n",
       " '__reduce_ex__',\n",
       " '__repr__',\n",
       " '__rmod__',\n",
       " '__rmul__',\n",
       " '__setattr__',\n",
       " '__sizeof__',\n",
       " '__str__',\n",
       " '__subclasshook__',\n",
       " 'capitalize',\n",
       " 'casefold',\n",
       " 'center',\n",
       " 'count',\n",
       " 'encode',\n",
       " 'endswith',\n",
       " 'expandtabs',\n",
       " 'find',\n",
       " 'format',\n",
       " 'format_map',\n",
       " 'index',\n",
       " 'isalnum',\n",
       " 'isalpha',\n",
       " 'isascii',\n",
       " 'isdecimal',\n",
       " 'isdigit',\n",
       " 'isidentifier',\n",
       " 'islower',\n",
       " 'isnumeric',\n",
       " 'isprintable',\n",
       " 'isspace',\n",
       " 'istitle',\n",
       " 'isupper',\n",
       " 'join',\n",
       " 'ljust',\n",
       " 'lower',\n",
       " 'lstrip',\n",
       " 'maketrans',\n",
       " 'partition',\n",
       " 'removeprefix',\n",
       " 'removesuffix',\n",
       " 'replace',\n",
       " 'rfind',\n",
       " 'rindex',\n",
       " 'rjust',\n",
       " 'rpartition',\n",
       " 'rsplit',\n",
       " 'rstrip',\n",
       " 'split',\n",
       " 'splitlines',\n",
       " 'startswith',\n",
       " 'strip',\n",
       " 'swapcase',\n",
       " 'title',\n",
       " 'translate',\n",
       " 'upper',\n",
       " 'zfill']"
      ]
     },
     "execution_count": 12,
     "metadata": {},
     "output_type": "execute_result"
    }
   ],
   "source": [
    "# Dont pass string to dir as it will sneakily give you all the strings methods\n",
    "# and not the names available to the module \n",
    "# Instead use dir(vh_modules) - no quotes\n",
    "dir(\"vh_modules\")"
   ]
  }
 ],
 "metadata": {
  "kernelspec": {
   "display_name": "Python 3",
   "language": "python",
   "name": "python3"
  },
  "language_info": {
   "codemirror_mode": {
    "name": "ipython",
    "version": 3
   },
   "file_extension": ".py",
   "mimetype": "text/x-python",
   "name": "python",
   "nbconvert_exporter": "python",
   "pygments_lexer": "ipython3",
   "version": "3.10.9"
  },
  "vscode": {
   "interpreter": {
    "hash": "26de051ba29f2982a8de78e945f0abaf191376122a1563185a90213a26c5da77"
   }
  }
 },
 "nbformat": 4,
 "nbformat_minor": 4
}
